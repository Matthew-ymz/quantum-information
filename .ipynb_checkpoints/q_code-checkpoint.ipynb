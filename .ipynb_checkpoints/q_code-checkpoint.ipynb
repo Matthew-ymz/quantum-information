{
 "cells": [
  {
   "cell_type": "code",
   "execution_count": 2,
   "metadata": {},
   "outputs": [],
   "source": [
    "import numpy as np\n",
    "from qiskit import QuantumCircuit\n",
    "from qiskit.quantum_info import Operator\n",
    "import warnings\n",
    "\n",
    "np.set_printoptions(4, suppress=True)\n",
    "warnings.filterwarnings(\"ignore\")"
   ]
  },
  {
   "cell_type": "code",
   "execution_count": 9,
   "metadata": {},
   "outputs": [
    {
     "ename": "ImportError",
     "evalue": "cannot import name 'IBMQ' from 'qiskit.providers' (/home/yuanbing/anaconda3/envs/py310/lib/python3.10/site-packages/qiskit/providers/__init__.py)",
     "output_type": "error",
     "traceback": [
      "\u001b[0;31m---------------------------------------------------------------------------\u001b[0m",
      "\u001b[0;31mImportError\u001b[0m                               Traceback (most recent call last)",
      "Cell \u001b[0;32mIn[9], line 1\u001b[0m\n\u001b[0;32m----> 1\u001b[0m \u001b[38;5;28;01mfrom\u001b[39;00m \u001b[38;5;21;01mqiskit\u001b[39;00m\u001b[38;5;21;01m.\u001b[39;00m\u001b[38;5;21;01mproviders\u001b[39;00m \u001b[38;5;28;01mimport\u001b[39;00m IBMQ\n\u001b[1;32m      2\u001b[0m token \u001b[38;5;241m=\u001b[39m \u001b[38;5;124m\"\u001b[39m\u001b[38;5;124m722953835e15b79a85d1592c6db7c94fd6708426a66dabc1f614b6a5ba82192dc1896db151ff670c1029b9741d8f9d076241a33d50d3073462566353a55aa962\u001b[39m\u001b[38;5;124m\"\u001b[39m\n",
      "\u001b[0;31mImportError\u001b[0m: cannot import name 'IBMQ' from 'qiskit.providers' (/home/yuanbing/anaconda3/envs/py310/lib/python3.10/site-packages/qiskit/providers/__init__.py)"
     ]
    }
   ],
   "source": [
    "from qiskit.providers import IBMQ\n",
    "token = \"722953835e15b79a85d1592c6db7c94fd6708426a66dabc1f614b6a5ba82192dc1896db151ff670c1029b9741d8f9d076241a33d50d3073462566353a55aa962\""
   ]
  },
  {
   "cell_type": "code",
   "execution_count": 29,
   "metadata": {},
   "outputs": [
    {
     "data": {
      "text/html": [
       "<pre style=\"word-wrap: normal;white-space: pre;background: #fff0;line-height: 1.1;font-family: &quot;Courier New&quot;,Courier,monospace\">     \n",
       "q_0: \n",
       "     \n",
       "q_1: \n",
       "     \n",
       "q_2: \n",
       "     </pre>"
      ],
      "text/plain": [
       "     \n",
       "q_0: \n",
       "     \n",
       "q_1: \n",
       "     \n",
       "q_2: \n",
       "     "
      ]
     },
     "execution_count": 29,
     "metadata": {},
     "output_type": "execute_result"
    }
   ],
   "source": [
    "from qiskit import *\n",
    "%matplotlib inline\n",
    "circ = QuantumCircuit(3)\n",
    "circ.draw()"
   ]
  },
  {
   "cell_type": "code",
   "execution_count": 30,
   "metadata": {},
   "outputs": [
    {
     "data": {
      "text/html": [
       "<pre style=\"word-wrap: normal;white-space: pre;background: #fff0;line-height: 1.1;font-family: &quot;Courier New&quot;,Courier,monospace\">     ┌───┐     \n",
       "q_0: ┤ H ├──■──\n",
       "     └───┘┌─┴─┐\n",
       "q_1: ─────┤ X ├\n",
       "          └───┘\n",
       "q_2: ──────────\n",
       "               </pre>"
      ],
      "text/plain": [
       "     ┌───┐     \n",
       "q_0: ┤ H ├──■──\n",
       "     └───┘┌─┴─┐\n",
       "q_1: ─────┤ X ├\n",
       "          └───┘\n",
       "q_2: ──────────\n",
       "               "
      ]
     },
     "execution_count": 30,
     "metadata": {},
     "output_type": "execute_result"
    }
   ],
   "source": [
    "circ.h(0)\n",
    "circ.cx(0,1)\n",
    "circ.draw()"
   ]
  },
  {
   "cell_type": "code",
   "execution_count": 31,
   "metadata": {},
   "outputs": [
    {
     "data": {
      "text/html": [
       "<pre style=\"word-wrap: normal;white-space: pre;background: #fff0;line-height: 1.1;font-family: &quot;Courier New&quot;,Courier,monospace\">        ┌───┐      ░ ┌─┐      \n",
       "   q_0: ┤ H ├──■───░─┤M├──────\n",
       "        └───┘┌─┴─┐ ░ └╥┘┌─┐   \n",
       "   q_1: ─────┤ X ├─░──╫─┤M├───\n",
       "             └───┘ ░  ║ └╥┘┌─┐\n",
       "   q_2: ───────────░──╫──╫─┤M├\n",
       "                   ░  ║  ║ └╥┘\n",
       "meas: 3/══════════════╩══╩══╩═\n",
       "                      0  1  2 </pre>"
      ],
      "text/plain": [
       "        ┌───┐      ░ ┌─┐      \n",
       "   q_0: ┤ H ├──■───░─┤M├──────\n",
       "        └───┘┌─┴─┐ ░ └╥┘┌─┐   \n",
       "   q_1: ─────┤ X ├─░──╫─┤M├───\n",
       "             └───┘ ░  ║ └╥┘┌─┐\n",
       "   q_2: ───────────░──╫──╫─┤M├\n",
       "                   ░  ║  ║ └╥┘\n",
       "meas: 3/══════════════╩══╩══╩═\n",
       "                      0  1  2 "
      ]
     },
     "execution_count": 31,
     "metadata": {},
     "output_type": "execute_result"
    }
   ],
   "source": [
    "circ_m = circ.measure_all(inplace=False)\n",
    "circ_m.draw()"
   ]
  },
  {
   "cell_type": "code",
   "execution_count": 37,
   "metadata": {},
   "outputs": [
    {
     "data": {
      "text/html": [
       "<pre style=\"word-wrap: normal;white-space: pre;background: #fff0;line-height: 1.1;font-family: &quot;Courier New&quot;,Courier,monospace\">     ┌───┐     ┌───┐\n",
       "q_0: ┤ H ├──■──┤ T ├\n",
       "     └───┘┌─┴─┐└───┘\n",
       "q_1: ─────┤ X ├─────\n",
       "          └───┘     \n",
       "q_2: ───────────────\n",
       "                    </pre>"
      ],
      "text/plain": [
       "     ┌───┐     ┌───┐\n",
       "q_0: ┤ H ├──■──┤ T ├\n",
       "     └───┘┌─┴─┐└───┘\n",
       "q_1: ─────┤ X ├─────\n",
       "          └───┘     \n",
       "q_2: ───────────────\n",
       "                    "
      ]
     },
     "execution_count": 37,
     "metadata": {},
     "output_type": "execute_result"
    }
   ],
   "source": [
    "circ.t(0)\n",
    "circ.draw()"
   ]
  },
  {
   "cell_type": "code",
   "execution_count": 39,
   "metadata": {},
   "outputs": [
    {
     "ename": "AttributeError",
     "evalue": "'SamplerResult' object has no attribute 'get_unitary'",
     "output_type": "error",
     "traceback": [
      "\u001b[0;31m---------------------------------------------------------------------------\u001b[0m",
      "\u001b[0;31mAttributeError\u001b[0m                            Traceback (most recent call last)",
      "Cell \u001b[0;32mIn[39], line 4\u001b[0m\n\u001b[1;32m      2\u001b[0m job \u001b[38;5;241m=\u001b[39m sampler\u001b[38;5;241m.\u001b[39mrun(circ_m, shots\u001b[38;5;241m=\u001b[39m\u001b[38;5;241m1000\u001b[39m)\n\u001b[1;32m      3\u001b[0m result \u001b[38;5;241m=\u001b[39m job\u001b[38;5;241m.\u001b[39mresult()\n\u001b[0;32m----> 4\u001b[0m mat \u001b[38;5;241m=\u001b[39m \u001b[43mresult\u001b[49m\u001b[38;5;241;43m.\u001b[39;49m\u001b[43mget_unitary\u001b[49m(circ_m)\n\u001b[1;32m      5\u001b[0m mat\n",
      "\u001b[0;31mAttributeError\u001b[0m: 'SamplerResult' object has no attribute 'get_unitary'"
     ]
    }
   ],
   "source": [
    "sampler = Sampler()\n",
    "job = sampler.run(circ_m, shots=1000)\n",
    "result = job.result()\n",
    "mat = result.get_unitary(circ_m)\n",
    "mat"
   ]
  },
  {
   "cell_type": "code",
   "execution_count": 32,
   "metadata": {},
   "outputs": [
    {
     "name": "stdout",
     "output_type": "stream",
     "text": [
      " > Quasi probability distribution: [{0: 0.498, 3: 0.502}]\n"
     ]
    }
   ],
   "source": [
    "from qiskit.primitives.sampler import Sampler\n",
    "sampler = Sampler()\n",
    "job = sampler.run(circ_m, shots=1000)\n",
    "result = job.result()\n",
    "print(f\" > Quasi probability distribution: {result.quasi_dists}\")"
   ]
  },
  {
   "cell_type": "code",
   "execution_count": 34,
   "metadata": {},
   "outputs": [
    {
     "name": "stdout",
     "output_type": "stream",
     "text": [
      " > Expectation values: [-0.1297]\n"
     ]
    }
   ],
   "source": [
    "from qiskit.quantum_info import SparsePauliOp\n",
    "operator = SparsePauliOp.from_list([(\"XXY\", 1), (\"XYX\", 1), (\"YXX\", 1), (\"YYY\", -1)])\n",
    "\n",
    "from qiskit.primitives import Estimator\n",
    "estimator = Estimator()\n",
    "job = estimator.run(circ, operator, shots=1000)\n",
    "result = job.result()\n",
    "print(f\" > Expectation values: {result.values}\")"
   ]
  }
 ],
 "metadata": {
  "kernelspec": {
   "display_name": "py310",
   "language": "python",
   "name": "py310"
  },
  "language_info": {
   "codemirror_mode": {
    "name": "ipython",
    "version": 3
   },
   "file_extension": ".py",
   "mimetype": "text/x-python",
   "name": "python",
   "nbconvert_exporter": "python",
   "pygments_lexer": "ipython3",
   "version": "3.10.14"
  }
 },
 "nbformat": 4,
 "nbformat_minor": 4
}
